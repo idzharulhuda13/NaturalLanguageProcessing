{
  "nbformat": 4,
  "nbformat_minor": 0,
  "metadata": {
    "colab": {
      "name": "NLP - Stemming.ipynb",
      "provenance": []
    },
    "kernelspec": {
      "name": "python3",
      "display_name": "Python 3"
    },
    "language_info": {
      "name": "python"
    }
  },
  "cells": [
    {
      "cell_type": "code",
      "metadata": {
        "id": "UvBOvhY7kl3u"
      },
      "source": [
        "import nltk"
      ],
      "execution_count": 30,
      "outputs": []
    },
    {
      "cell_type": "code",
      "metadata": {
        "colab": {
          "base_uri": "https://localhost:8080/"
        },
        "id": "aPbm-I5Vly93",
        "outputId": "f89502a3-29ec-414e-9f30-fa40583541e1"
      },
      "source": [
        "nltk.download('punkt')\n",
        "nltk.download('averaged_perceptron_tagger')"
      ],
      "execution_count": 23,
      "outputs": [
        {
          "output_type": "stream",
          "text": [
            "[nltk_data] Downloading package punkt to /root/nltk_data...\n",
            "[nltk_data]   Package punkt is already up-to-date!\n",
            "[nltk_data] Downloading package averaged_perceptron_tagger to\n",
            "[nltk_data]     /root/nltk_data...\n",
            "[nltk_data]   Unzipping taggers/averaged_perceptron_tagger.zip.\n"
          ],
          "name": "stdout"
        },
        {
          "output_type": "execute_result",
          "data": {
            "text/plain": [
              "True"
            ]
          },
          "metadata": {
            "tags": []
          },
          "execution_count": 23
        }
      ]
    },
    {
      "cell_type": "code",
      "metadata": {
        "id": "-8e0QhjqkttX"
      },
      "source": [
        "paragraph = \"\"\"Logistik misi INTERFET di Timor Timur pada 1999 dan 2000 melibatkan pasukan dengan jumlah maksimal 11.693 orang yang berasal dari 23 negara. Pasukan internasional ini dipimpin oleh Australia yang juga menyumbangkan pasukan terbesar yaitu 5.697 orang dan memiliki peran terbesar dari sisi logistik militer. Misi ini adalah penempatan pasukan Australia terbesar di luar negeri sejak Perang Vietnam. Posisi pemimpin koalisi merupakan peran yang benar-benar baru untuk Australia, sedangkan bagian logistik dari angkatan bersenjata negara tersebut, Australian Defence Force (ADF), telah mengalami pemangkasan dana pada dasawarsa 1990-an. Awalnya, ADF tidak memperkirakan akan bertanggung jawab untuk misi sebesar ini, serta penempatan besar pasukannya di luar negeri, terutama sebagai pemimpin koalisi internasional.\"\"\""
      ],
      "execution_count": 17,
      "outputs": []
    },
    {
      "cell_type": "code",
      "metadata": {
        "colab": {
          "base_uri": "https://localhost:8080/"
        },
        "id": "HszgA_Qpkx5r",
        "outputId": "3167a021-1347-43f3-abc2-43022c843d4d"
      },
      "source": [
        "# Tokenizing sentences\n",
        "sentences = nltk.sent_tokenize(paragraph)\n",
        "sentences"
      ],
      "execution_count": 18,
      "outputs": [
        {
          "output_type": "execute_result",
          "data": {
            "text/plain": [
              "['Logistik misi INTERFET di Timor Timur pada 1999 dan 2000 melibatkan pasukan dengan jumlah maksimal 11.693 orang yang berasal dari 23 negara.',\n",
              " 'Pasukan internasional ini dipimpin oleh Australia yang juga menyumbangkan pasukan terbesar yaitu 5.697 orang dan memiliki peran terbesar dari sisi logistik militer.',\n",
              " 'Misi ini adalah penempatan pasukan Australia terbesar di luar negeri sejak Perang Vietnam.',\n",
              " 'Posisi pemimpin koalisi merupakan peran yang benar-benar baru untuk Australia, sedangkan bagian logistik dari angkatan bersenjata negara tersebut, Australian Defence Force (ADF), telah mengalami pemangkasan dana pada dasawarsa 1990-an.',\n",
              " 'Awalnya, ADF tidak memperkirakan akan bertanggung jawab untuk misi sebesar ini, serta penempatan besar pasukannya di luar negeri, terutama sebagai pemimpin koalisi internasional.']"
            ]
          },
          "metadata": {
            "tags": []
          },
          "execution_count": 18
        }
      ]
    },
    {
      "cell_type": "code",
      "metadata": {
        "colab": {
          "base_uri": "https://localhost:8080/"
        },
        "id": "9h3Oar2Jkz8H",
        "outputId": "cf5ffaff-1516-43a7-9e6a-11cc7625a2a5"
      },
      "source": [
        "# Tokenizing words\n",
        "words = nltk.word_tokenize(paragraph)\n",
        "words"
      ],
      "execution_count": 20,
      "outputs": [
        {
          "output_type": "execute_result",
          "data": {
            "text/plain": [
              "['Logistik',\n",
              " 'misi',\n",
              " 'INTERFET',\n",
              " 'di',\n",
              " 'Timor',\n",
              " 'Timur',\n",
              " 'pada',\n",
              " '1999',\n",
              " 'dan',\n",
              " '2000',\n",
              " 'melibatkan',\n",
              " 'pasukan',\n",
              " 'dengan',\n",
              " 'jumlah',\n",
              " 'maksimal',\n",
              " '11.693',\n",
              " 'orang',\n",
              " 'yang',\n",
              " 'berasal',\n",
              " 'dari',\n",
              " '23',\n",
              " 'negara',\n",
              " '.',\n",
              " 'Pasukan',\n",
              " 'internasional',\n",
              " 'ini',\n",
              " 'dipimpin',\n",
              " 'oleh',\n",
              " 'Australia',\n",
              " 'yang',\n",
              " 'juga',\n",
              " 'menyumbangkan',\n",
              " 'pasukan',\n",
              " 'terbesar',\n",
              " 'yaitu',\n",
              " '5.697',\n",
              " 'orang',\n",
              " 'dan',\n",
              " 'memiliki',\n",
              " 'peran',\n",
              " 'terbesar',\n",
              " 'dari',\n",
              " 'sisi',\n",
              " 'logistik',\n",
              " 'militer',\n",
              " '.',\n",
              " 'Misi',\n",
              " 'ini',\n",
              " 'adalah',\n",
              " 'penempatan',\n",
              " 'pasukan',\n",
              " 'Australia',\n",
              " 'terbesar',\n",
              " 'di',\n",
              " 'luar',\n",
              " 'negeri',\n",
              " 'sejak',\n",
              " 'Perang',\n",
              " 'Vietnam',\n",
              " '.',\n",
              " 'Posisi',\n",
              " 'pemimpin',\n",
              " 'koalisi',\n",
              " 'merupakan',\n",
              " 'peran',\n",
              " 'yang',\n",
              " 'benar-benar',\n",
              " 'baru',\n",
              " 'untuk',\n",
              " 'Australia',\n",
              " ',',\n",
              " 'sedangkan',\n",
              " 'bagian',\n",
              " 'logistik',\n",
              " 'dari',\n",
              " 'angkatan',\n",
              " 'bersenjata',\n",
              " 'negara',\n",
              " 'tersebut',\n",
              " ',',\n",
              " 'Australian',\n",
              " 'Defence',\n",
              " 'Force',\n",
              " '(',\n",
              " 'ADF',\n",
              " ')',\n",
              " ',',\n",
              " 'telah',\n",
              " 'mengalami',\n",
              " 'pemangkasan',\n",
              " 'dana',\n",
              " 'pada',\n",
              " 'dasawarsa',\n",
              " '1990-an',\n",
              " '.',\n",
              " 'Awalnya',\n",
              " ',',\n",
              " 'ADF',\n",
              " 'tidak',\n",
              " 'memperkirakan',\n",
              " 'akan',\n",
              " 'bertanggung',\n",
              " 'jawab',\n",
              " 'untuk',\n",
              " 'misi',\n",
              " 'sebesar',\n",
              " 'ini',\n",
              " ',',\n",
              " 'serta',\n",
              " 'penempatan',\n",
              " 'besar',\n",
              " 'pasukannya',\n",
              " 'di',\n",
              " 'luar',\n",
              " 'negeri',\n",
              " ',',\n",
              " 'terutama',\n",
              " 'sebagai',\n",
              " 'pemimpin',\n",
              " 'koalisi',\n",
              " 'internasional',\n",
              " '.']"
            ]
          },
          "metadata": {
            "tags": []
          },
          "execution_count": 20
        }
      ]
    },
    {
      "cell_type": "code",
      "metadata": {
        "id": "BaPpj3HV3kjR"
      },
      "source": [
        "# Stemming"
      ],
      "execution_count": null,
      "outputs": []
    },
    {
      "cell_type": "code",
      "metadata": {
        "colab": {
          "base_uri": "https://localhost:8080/"
        },
        "id": "rtMtXq2LoYMc",
        "outputId": "0ab5f43b-da86-4923-a27b-6f5123825bea"
      },
      "source": [
        "nltk.download('stopwords')\n",
        "from nltk.stem import PorterStemmer\n",
        "from nltk.corpus import stopwords"
      ],
      "execution_count": 35,
      "outputs": [
        {
          "output_type": "stream",
          "text": [
            "[nltk_data] Downloading package stopwords to /root/nltk_data...\n",
            "[nltk_data]   Unzipping corpora/stopwords.zip.\n"
          ],
          "name": "stdout"
        }
      ]
    },
    {
      "cell_type": "code",
      "metadata": {
        "id": "1slS4bo51AtD"
      },
      "source": [
        "stemmer = PorterStemmer()"
      ],
      "execution_count": 33,
      "outputs": []
    },
    {
      "cell_type": "code",
      "metadata": {
        "id": "TOvtg09N1hLE"
      },
      "source": [
        "for i in range(len(sentences)):\n",
        "    words = nltk.word_tokenize(sentences[i])\n",
        "    words = [stemmer.stem(word) for word in words if word not in set(stopwords.words('indonesian'))]\n",
        "    sentences[i] = ' '.join(words)"
      ],
      "execution_count": 37,
      "outputs": []
    },
    {
      "cell_type": "code",
      "metadata": {
        "colab": {
          "base_uri": "https://localhost:8080/"
        },
        "id": "MNqy5NbQ2bcA",
        "outputId": "5c75708e-2655-4a21-be29-66b1a8260111"
      },
      "source": [
        "words"
      ],
      "execution_count": 41,
      "outputs": [
        {
          "output_type": "execute_result",
          "data": {
            "text/plain": [
              "[',',\n",
              " 'adf',\n",
              " 'bertanggung',\n",
              " 'misi',\n",
              " ',',\n",
              " 'penempatan',\n",
              " 'pasukannya',\n",
              " 'negeri',\n",
              " ',',\n",
              " 'pemimpin',\n",
              " 'koalisi',\n",
              " 'internas',\n",
              " '.']"
            ]
          },
          "metadata": {
            "tags": []
          },
          "execution_count": 41
        }
      ]
    },
    {
      "cell_type": "code",
      "metadata": {
        "colab": {
          "base_uri": "https://localhost:8080/"
        },
        "id": "9CSinffD2qZL",
        "outputId": "82ba8186-b585-4bfa-99ae-e0cea2be8c2a"
      },
      "source": [
        "sentences"
      ],
      "execution_count": 42,
      "outputs": [
        {
          "output_type": "execute_result",
          "data": {
            "text/plain": [
              "['logistik misi interfet timor timur 1999 2000 melibatkan pasukan maksim 11.693 orang bera 23 negara .',\n",
              " 'pasukan internas dipimpin australia menyumbangkan pasukan terbesar 5.697 orang memiliki peran terbesar sisi logistik milit .',\n",
              " 'misi penempatan pasukan australia terbesar negeri perang vietnam .',\n",
              " 'posisi pemimpin koalisi peran benar-benar australia , logistik angkatan bersenjata negara , australian defenc forc ( adf ) , mengalami pemangkasan dana dasawarsa 1990-an .',\n",
              " ', adf bertanggung misi , penempatan pasukannya negeri , pemimpin koalisi internas .']"
            ]
          },
          "metadata": {
            "tags": []
          },
          "execution_count": 42
        }
      ]
    }
  ]
}