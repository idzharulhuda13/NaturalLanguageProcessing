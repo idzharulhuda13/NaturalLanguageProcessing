{
  "nbformat": 4,
  "nbformat_minor": 0,
  "metadata": {
    "colab": {
      "name": "NLP - Lemmatization.ipynb",
      "provenance": []
    },
    "kernelspec": {
      "name": "python3",
      "display_name": "Python 3"
    },
    "language_info": {
      "name": "python"
    }
  },
  "cells": [
    {
      "cell_type": "code",
      "metadata": {
        "colab": {
          "base_uri": "https://localhost:8080/"
        },
        "id": "3u-OxHLj5x2n",
        "outputId": "153aeef0-ec4b-49b7-9b9e-c61754877ede"
      },
      "source": [
        "import nltk\n",
        "from nltk.stem import WordNetLemmatizer\n",
        "from nltk.corpus import stopwords\n",
        "\n",
        "nltk.download('punkt')\n",
        "nltk.download('stopwords')\n",
        "nltk.download('wordnet')"
      ],
      "execution_count": 11,
      "outputs": [
        {
          "output_type": "stream",
          "text": [
            "[nltk_data] Downloading package punkt to /root/nltk_data...\n",
            "[nltk_data]   Package punkt is already up-to-date!\n",
            "[nltk_data] Downloading package stopwords to /root/nltk_data...\n",
            "[nltk_data]   Package stopwords is already up-to-date!\n",
            "[nltk_data] Downloading package wordnet to /root/nltk_data...\n",
            "[nltk_data]   Unzipping corpora/wordnet.zip.\n"
          ],
          "name": "stdout"
        },
        {
          "output_type": "execute_result",
          "data": {
            "text/plain": [
              "True"
            ]
          },
          "metadata": {
            "tags": []
          },
          "execution_count": 11
        }
      ]
    },
    {
      "cell_type": "code",
      "metadata": {
        "id": "me15k8wP55o2"
      },
      "source": [
        "paragraph = \"\"\"Logistik misi INTERFET di Timor Timur pada 1999 dan 2000 melibatkan pasukan dengan jumlah maksimal 11.693 orang yang berasal dari 23 negara. Pasukan internasional ini dipimpin oleh Australia yang juga menyumbangkan pasukan terbesar yaitu 5.697 orang dan memiliki peran terbesar dari sisi logistik militer. Misi ini adalah penempatan pasukan Australia terbesar di luar negeri sejak Perang Vietnam. Posisi pemimpin koalisi merupakan peran yang benar-benar baru untuk Australia, sedangkan bagian logistik dari angkatan bersenjata negara tersebut, Australian Defence Force (ADF), telah mengalami pemangkasan dana pada dasawarsa 1990-an. Awalnya, ADF tidak memperkirakan akan bertanggung jawab untuk misi sebesar ini, serta penempatan besar pasukannya di luar negeri, terutama sebagai pemimpin koalisi internasional.\"\"\""
      ],
      "execution_count": 2,
      "outputs": []
    },
    {
      "cell_type": "code",
      "metadata": {
        "colab": {
          "base_uri": "https://localhost:8080/"
        },
        "id": "s8QzpwE359zb",
        "outputId": "fa3427b9-8b9a-4558-e94f-9236d842a20a"
      },
      "source": [
        "sentences = nltk.sent_tokenize(paragraph)\n",
        "lemmatizer = WordNetLemmatizer()\n",
        "\n",
        "sentences"
      ],
      "execution_count": 6,
      "outputs": [
        {
          "output_type": "execute_result",
          "data": {
            "text/plain": [
              "['Logistik misi INTERFET di Timor Timur pada 1999 dan 2000 melibatkan pasukan dengan jumlah maksimal 11.693 orang yang berasal dari 23 negara.',\n",
              " 'Pasukan internasional ini dipimpin oleh Australia yang juga menyumbangkan pasukan terbesar yaitu 5.697 orang dan memiliki peran terbesar dari sisi logistik militer.',\n",
              " 'Misi ini adalah penempatan pasukan Australia terbesar di luar negeri sejak Perang Vietnam.',\n",
              " 'Posisi pemimpin koalisi merupakan peran yang benar-benar baru untuk Australia, sedangkan bagian logistik dari angkatan bersenjata negara tersebut, Australian Defence Force (ADF), telah mengalami pemangkasan dana pada dasawarsa 1990-an.',\n",
              " 'Awalnya, ADF tidak memperkirakan akan bertanggung jawab untuk misi sebesar ini, serta penempatan besar pasukannya di luar negeri, terutama sebagai pemimpin koalisi internasional.']"
            ]
          },
          "metadata": {
            "tags": []
          },
          "execution_count": 6
        }
      ]
    },
    {
      "cell_type": "code",
      "metadata": {
        "id": "KuxJdc5P5_46"
      },
      "source": [
        "# Lemmatization\n",
        "for i in range(len(sentences)):\n",
        "    words = nltk.word_tokenize(sentences[i])\n",
        "    words = [lemmatizer.lemmatize(word) for word in words if word not in set(stopwords.words('indonesian'))]\n",
        "    sentences[i] = ' '.join(words)     "
      ],
      "execution_count": 13,
      "outputs": []
    },
    {
      "cell_type": "code",
      "metadata": {
        "colab": {
          "base_uri": "https://localhost:8080/"
        },
        "id": "x_bStgBC6YEh",
        "outputId": "55bd61bf-e1bb-46c2-a560-90e352ca5eb3"
      },
      "source": [
        "words"
      ],
      "execution_count": 14,
      "outputs": [
        {
          "output_type": "execute_result",
          "data": {
            "text/plain": [
              "['Awalnya',\n",
              " ',',\n",
              " 'ADF',\n",
              " 'bertanggung',\n",
              " 'misi',\n",
              " ',',\n",
              " 'penempatan',\n",
              " 'pasukannya',\n",
              " 'negeri',\n",
              " ',',\n",
              " 'pemimpin',\n",
              " 'koalisi',\n",
              " 'internasional',\n",
              " '.']"
            ]
          },
          "metadata": {
            "tags": []
          },
          "execution_count": 14
        }
      ]
    },
    {
      "cell_type": "code",
      "metadata": {
        "colab": {
          "base_uri": "https://localhost:8080/"
        },
        "id": "Be-M8sdK6Y9l",
        "outputId": "66ea498c-e0a4-47a0-bbb8-643b6ce8d028"
      },
      "source": [
        "sentences"
      ],
      "execution_count": 15,
      "outputs": [
        {
          "output_type": "execute_result",
          "data": {
            "text/plain": [
              "['Logistik misi INTERFET Timor Timur 1999 2000 melibatkan pasukan maksimal 11.693 orang berasal 23 negara .',\n",
              " 'Pasukan internasional dipimpin Australia menyumbangkan pasukan terbesar 5.697 orang memiliki peran terbesar sisi logistik militer .',\n",
              " 'Misi penempatan pasukan Australia terbesar negeri Perang Vietnam .',\n",
              " 'Posisi pemimpin koalisi peran benar-benar Australia , logistik angkatan bersenjata negara , Australian Defence Force ( ADF ) , mengalami pemangkasan dana dasawarsa 1990-an .',\n",
              " 'Awalnya , ADF bertanggung misi , penempatan pasukannya negeri , pemimpin koalisi internasional .']"
            ]
          },
          "metadata": {
            "tags": []
          },
          "execution_count": 15
        }
      ]
    }
  ]
}